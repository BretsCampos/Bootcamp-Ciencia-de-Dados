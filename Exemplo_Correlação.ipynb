{
  "nbformat": 4,
  "nbformat_minor": 0,
  "metadata": {
    "colab": {
      "name": "Exemplo-Correlação.ipynb",
      "provenance": [],
      "collapsed_sections": [],
      "authorship_tag": "ABX9TyNZ79bfPHscZQ2KVjWOJNa7",
      "include_colab_link": true
    },
    "kernelspec": {
      "name": "python3",
      "display_name": "Python 3"
    }
  },
  "cells": [
    {
      "cell_type": "markdown",
      "metadata": {
        "id": "view-in-github",
        "colab_type": "text"
      },
      "source": [
        "<a href=\"https://colab.research.google.com/github/BretsCampos/Projetos_Data_Science/blob/master/Exemplo_Correla%C3%A7%C3%A3o.ipynb\" target=\"_parent\"><img src=\"https://colab.research.google.com/assets/colab-badge.svg\" alt=\"Open In Colab\"/></a>"
      ]
    },
    {
      "cell_type": "code",
      "metadata": {
        "id": "_vxJtCRTWyjK"
      },
      "source": [
        "import numpy as np\n",
        "from sklearn import datasets, linear_model\n",
        "import matplotlib.pyplot as plt\n",
        "from sklearn.metrics import mean_squared_error, r2_score"
      ],
      "execution_count": null,
      "outputs": []
    },
    {
      "cell_type": "code",
      "metadata": {
        "id": "KECZgvPoXB00",
        "outputId": "22afc394-c44d-4850-872a-c1d9b2034ffe",
        "colab": {
          "base_uri": "https://localhost:8080/",
          "height": 265
        }
      },
      "source": [
        "Receita = np.array([2, 15, 25, 35, 45, 55, 65, 75, 80, 85, 32, 62, 2, 15, 25, 35, 45, 55, 65, 75, 80, 85, 32, 62])\n",
        "Preco = np.array([10, 20, 14, 32, 22, 38, 41, 52, 55, 61, 21, 44, 10, 20, 14, 32, 22, 38, 41, 52, 55, 61, 21, 44])\n",
        "\n",
        "plt.scatter(Receita, Preco, color = 'black')\n",
        "plt.show()"
      ],
      "execution_count": null,
      "outputs": [
        {
          "output_type": "display_data",
          "data": {
            "image/png": "[encoded data removed]",
            "text/plain": [
              "<Figure size 432x288 with 1 Axes>"
            ]
          },
          "metadata": {
            "tags": [],
            "needs_background": "light"
          }
        }
      ]
    },
    {
      "cell_type": "code",
      "metadata": {
        "id": "MDjpLSVQXryL",
        "outputId": "2cb28055-66b7-46e5-cfc4-6cfe361158f4",
        "colab": {
          "base_uri": "https://localhost:8080/",
          "height": 298
        }
      },
      "source": [
        "regr = linear_model.LinearRegression()\n",
        "regr.fit(Receita.reshape(-1,1), Preco)\n",
        "y = regr.predict(Receita.reshape(-1,1))\n",
        "\n",
        "\n",
        "\n",
        "plt.title('Regressão Linear')\n",
        "\n",
        "\n",
        "plt.scatter(Receita, Preco, color = 'black')\n",
        "plt.plot(Receita, y, color = 'blue', linewidth = 3)\n"
      ],
      "execution_count": null,
      "outputs": [
        {
          "output_type": "execute_result",
          "data": {
            "text/plain": [
              "[<matplotlib.lines.Line2D at 0x7f63a9c9a8d0>]"
            ]
          },
          "metadata": {
            "tags": []
          },
          "execution_count": 5
        },
        {
          "output_type": "display_data",
          "data": {
            "image/png": "[encoded data removed]",
            "text/plain": [
              "<Figure size 432x288 with 1 Axes>"
            ]
          },
          "metadata": {
            "tags": [],
            "needs_background": "light"
          }
        }
      ]
    },
    {
      "cell_type": "code",
      "metadata": {
        "id": "PdxVHVadYRUC"
      },
      "source": [
        ""
      ],
      "execution_count": null,
      "outputs": []
    }
  ]
}